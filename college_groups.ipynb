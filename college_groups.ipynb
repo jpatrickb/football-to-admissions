{
 "cells": [
  {
   "cell_type": "code",
   "execution_count": 7,
   "metadata": {},
   "outputs": [],
   "source": [
    "import pandas as pd"
   ]
  },
  {
   "cell_type": "code",
   "execution_count": 8,
   "metadata": {},
   "outputs": [],
   "source": [
    "data = pd.read_csv('football_admission_cleaned.csv')"
   ]
  },
  {
   "cell_type": "code",
   "execution_count": 35,
   "metadata": {},
   "outputs": [
    {
     "data": {
      "text/plain": [
       "Index(['TEAM', 'YEAR', 'WON', 'LOST', 'TIED', 'WIN_RATE', 'REGION', 'ADM_RATE',\n",
       "       'ACTCMMID', 'SAT_AVG', 'UGDS', 'UGDS_WHITE', 'UGDS_BLACK', 'UGDS_HISP',\n",
       "       'UGDS_ASIAN', 'TUITIONFEE_IN', 'TUITIONFEE_OUT', 'C150_4', 'RET_FT4',\n",
       "       'UGDS_MEN', 'UGDS_WOMEN', 'ON_CAMPUS_EXPENSES', 'OFF_CAMPUS_EXPENSES',\n",
       "       'INSTNM'],\n",
       "      dtype='object')"
      ]
     },
     "execution_count": 35,
     "metadata": {},
     "output_type": "execute_result"
    }
   ],
   "source": [
    "data.columns"
   ]
  },
  {
   "cell_type": "code",
   "execution_count": null,
   "metadata": {},
   "outputs": [],
   "source": [
    "# Public Colleges/Universities\n",
    "public_colleges = [\n",
    "    'Alabama', 'Arizona', 'Arizona_State', 'Arkansas', 'Arkansas_State', 'Auburn', 'Ball_State',\n",
    "    'Boise_State', 'Boston_College', 'Bowling_Green', 'Buffalo', \n",
    "    'California', 'Central_Florida', 'Central_Michigan', 'Chicago', 'Cincinnati', 'Clemson', \n",
    "    'Coastal_Carolina', 'Colorado', 'Colorado_Mines', 'Colorado_State', \n",
    "    'Connecticut', 'Duquesne', \n",
    "    'East_Carolina', 'Eastern_Michigan', 'Florida', 'Florida_Atlantic', 'Florida_International', \n",
    "    'Florida_State', 'Fordham', 'Fresno_State', 'Georgia', 'Georgia_Southern', \n",
    "    'Georgia_State', 'Georgia_Tech', 'Grinnell', 'Hardin-Simmons', 'Hawaii',\n",
    "    'Houston', 'Idaho', 'Illinois', 'Indiana', 'Iowa', 'Iowa_State', 'Kansas', 'Kansas_State', 'Kent', \n",
    "    'Kentucky', 'Lafayette', 'Louisiana-Lafayette', 'Louisiana-Monroe', 'Louisiana_State', \n",
    "    'Louisiana_Tech', 'Louisville', 'Marshall', 'Maryland', 'Memphis', 'Miami-Florida', 'Miami-Ohio', \n",
    "    'Michigan', 'Michigan_State', 'Middle_Tennessee_State', 'Minnesota', 'Mississippi', 'Mississippi_State', \n",
    "    'Missouri', 'Montana', 'Montana_State', 'Nebraska', 'Nevada-Las_Vegas', 'Nevada-Reno', 'New_Mexico', \n",
    "    'New_Mexico_State', 'North_Carolina', 'North_Carolina_State', 'North_Texas', 'Northern_Colorado', \n",
    "    'Northern_Illinois', 'Northwestern', 'Ohio', 'Ohio_State', 'Oklahoma', 'Oklahoma_State', \n",
    "    'Old_Dominion', 'Oregon', 'Oregon_State', 'Penn_State', 'Pennsylvania', 'Pittsburgh', 'Purdue', \n",
    "    'Rutgers', 'San_Diego_State', 'San_Jose_State', 'South_Alabama', 'South_Carolina', \n",
    "    'South_Florida', 'Southern_Cal', 'Southern_Miss', 'Syracuse', 'Temple', \n",
    "    'Tennessee', 'Texas', 'Texas-El_Paso', 'Texas_A+M', 'Texas_State', 'Texas_Tech', \n",
    "    'Toledo', 'Troy', 'Tulane', 'Tulsa', 'UAB', 'UCLA', 'UMass', 'UTSA', 'Utah', 'Utah_State', 'VMI', 'Vanderbilt', \n",
    "    'Virginia', 'Virginia_Tech', 'Wake_Forest', 'Washington', 'Washington-Missouri', \n",
    "    'Washington_+_Jefferson', 'Washington_State', 'West_Virginia', 'Western_Kentucky', 'Western_Michigan', \n",
    "    'Wisconsin', 'Wyoming'\n",
    "]\n",
    "\n",
    "\n",
    "# Private Colleges/Universities\n",
    "private_colleges = [\n",
    "    'Brown', 'Bucknell', 'Carnegie_Tech', 'Colgate', 'Columbia', 'Cornell', 'Dartmouth', 'Davidson', \n",
    "    'Dayton', 'Drake', 'Duke', 'Furman', 'Harvard', 'Holy_Cross', 'Princeton', \n",
    "    'Rice', 'Richmond', 'Stanford', 'Villanova', 'Yale'\n",
    "]\n",
    "\n",
    "# Religious Colleges/Universities\n",
    "religious_colleges = [\n",
    "    'Brigham_Young', 'Georgetown', 'Liberty', 'Notre_Dame', 'Baylor', 'Southern_Methodist', 'Texas_Christian'\n",
    "]\n",
    "\n",
    "# Military Colleges\n",
    "military_colleges = [\n",
    "    'Army', 'Navy', 'Air_Force', 'The_Citadel'\n",
    "]\n",
    "\n",
    "# Liberal Arts Colleges\n",
    "liberal_arts_colleges = [\n",
    "    'Amherst_College', 'Bates_College', 'Bowdoin_College', 'Carleton_College', 'Colby_College', 'Davidson_College',\n",
    "    'Dickinson_College', 'Grinnell_College', 'Middlebury_College', 'Pomona_College', 'Williams_College'\n",
    "]\n"
   ]
  },
  {
   "cell_type": "code",
   "execution_count": 36,
   "metadata": {},
   "outputs": [],
   "source": [
    "def get_university_type(name):\n",
    "    if name in public_colleges:\n",
    "        return 'Public'\n",
    "    elif name in private_colleges:\n",
    "        return 'Private'\n",
    "    elif name in religious_colleges:\n",
    "        return 'Religious'\n",
    "    elif name in military_colleges:\n",
    "        return 'Military'\n",
    "    elif name in liberal_arts_colleges:\n",
    "        return 'Liberal Arts'\n",
    "    else:\n",
    "        return 'Unknown'\n",
    "\n",
    "# Apply the function to create the new column\n",
    "data['University_Type'] = data['TEAM'].apply(get_university_type)"
   ]
  },
  {
   "cell_type": "code",
   "execution_count": 37,
   "metadata": {},
   "outputs": [
    {
     "data": {
      "text/plain": [
       "Index(['TEAM', 'YEAR', 'WON', 'LOST', 'TIED', 'WIN_RATE', 'REGION', 'ADM_RATE',\n",
       "       'ACTCMMID', 'SAT_AVG', 'UGDS', 'UGDS_WHITE', 'UGDS_BLACK', 'UGDS_HISP',\n",
       "       'UGDS_ASIAN', 'TUITIONFEE_IN', 'TUITIONFEE_OUT', 'C150_4', 'RET_FT4',\n",
       "       'UGDS_MEN', 'UGDS_WOMEN', 'ON_CAMPUS_EXPENSES', 'OFF_CAMPUS_EXPENSES',\n",
       "       'INSTNM', 'University_Type'],\n",
       "      dtype='object')"
      ]
     },
     "execution_count": 37,
     "metadata": {},
     "output_type": "execute_result"
    }
   ],
   "source": [
    "data.columns"
   ]
  },
  {
   "cell_type": "code",
   "execution_count": 44,
   "metadata": {},
   "outputs": [],
   "source": [
    "data.to_csv('data_with_uni_type.csv', index=False)"
   ]
  }
 ],
 "metadata": {
  "kernelspec": {
   "display_name": "venv",
   "language": "python",
   "name": "python3"
  },
  "language_info": {
   "codemirror_mode": {
    "name": "ipython",
    "version": 3
   },
   "file_extension": ".py",
   "mimetype": "text/x-python",
   "name": "python",
   "nbconvert_exporter": "python",
   "pygments_lexer": "ipython3",
   "version": "3.10.15"
  }
 },
 "nbformat": 4,
 "nbformat_minor": 2
}
