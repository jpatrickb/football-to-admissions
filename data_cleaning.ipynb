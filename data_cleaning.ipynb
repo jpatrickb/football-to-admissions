{
 "cells": [
  {
   "cell_type": "markdown",
   "id": "e82e1c0fe329f3c6",
   "metadata": {},
   "source": [
    "# Data Cleaning"
   ]
  },
  {
   "cell_type": "code",
   "execution_count": 55,
   "id": "initial_id",
   "metadata": {
    "ExecuteTime": {
     "end_time": "2025-03-19T16:35:45.065692Z",
     "start_time": "2025-03-19T16:35:44.726535Z"
    },
    "collapsed": true
   },
   "outputs": [],
   "source": [
    "import pandas as pd"
   ]
  },
  {
   "cell_type": "code",
   "execution_count": 56,
   "id": "e8a88026973716cb",
   "metadata": {
    "ExecuteTime": {
     "end_time": "2025-03-19T16:36:00.397798Z",
     "start_time": "2025-03-19T16:36:00.361554Z"
    }
   },
   "outputs": [],
   "source": [
    "df = pd.read_csv(\"football_admission_no_lag.csv\")"
   ]
  },
  {
   "cell_type": "code",
   "execution_count": 57,
   "id": "321b55ae",
   "metadata": {},
   "outputs": [],
   "source": [
    "# get list of all team/school names\n",
    "teams = df['TEAM'].unique().tolist()\n",
    "num_teams = len(teams)\n",
    "# get list of all column names\n",
    "columns = df.columns.tolist()"
   ]
  },
  {
   "cell_type": "code",
   "execution_count": 58,
   "id": "25726f8f",
   "metadata": {},
   "outputs": [
    {
     "name": "stdout",
     "output_type": "stream",
     "text": [
      "TEAM                      0\n",
      "YEAR                      0\n",
      "WON                       0\n",
      "LOST                      0\n",
      "TIED                      0\n",
      "WIN_RATE                 41\n",
      "REGION                  211\n",
      "ADM_RATE                996\n",
      "ACTCMMID               1460\n",
      "SAT_AVG                1124\n",
      "UGDS                    361\n",
      "UGDS_WHITE             2033\n",
      "UGDS_BLACK             2033\n",
      "UGDS_HISP              2033\n",
      "UGDS_ASIAN             2033\n",
      "TUITIONFEE_IN           858\n",
      "TUITIONFEE_OUT          858\n",
      "C150_4                  371\n",
      "RET_FT4                1421\n",
      "UGDS_MEN                361\n",
      "UGDS_WOMEN              361\n",
      "ON_CAMPUS_EXPENSES      725\n",
      "OFF_CAMPUS_EXPENSES    1465\n",
      "INSTNM                  186\n",
      "dtype: int64\n"
     ]
    }
   ],
   "source": [
    "print(df.isna().sum())"
   ]
  },
  {
   "cell_type": "markdown",
   "id": "56ecc080",
   "metadata": {},
   "source": [
    "Fill missing values"
   ]
  },
  {
   "cell_type": "code",
   "execution_count": 61,
   "id": "4ccbc55c",
   "metadata": {},
   "outputs": [],
   "source": [
    "# team = \"Air_Force\"\n",
    "for team in teams:\n",
    "    mask = df['TEAM'] == team\n",
    "    team_df = df[mask].copy()\n",
    "    nan_counts = team_df.isna().sum()\n",
    "    team_df.interpolate(inplace=True)\n",
    "    team_df.fillna(method='bfill', inplace=True)\n",
    "    nan_counts = team_df.isna().sum()\n",
    "    df.loc[mask] = team_df\n",
    "# print(nan_counts)\n",
    "\n",
    "bad_rows = df.loc[df['UGDS_WHITE'].isna(), 'TEAM'].unique().tolist()\n",
    "for row in bad_rows:\n",
    "    df = df[~(df['TEAM'] == row)].reset_index(drop=True)\n",
    "\n",
    "# get updated list of all team/school names\n",
    "teams = df['TEAM'].unique().tolist()\n",
    "num_teams = len(teams)\n",
    "\n",
    "football_cols = ['WON', 'LOST', 'TIED', 'WIN_RATE']\n",
    "for team in teams:\n",
    "    mask = df['TEAM'] == team\n",
    "    team_df = df[mask].copy()\n",
    "    for col in football_cols:\n",
    "        team_df[col] = team_df[col].shift(-2)\n",
    "    df.loc[mask] = team_df\n",
    "\n",
    "df = df.dropna().reset_index(drop=True)"
   ]
  },
  {
   "cell_type": "code",
   "execution_count": 60,
   "id": "d8d44cc7",
   "metadata": {},
   "outputs": [],
   "source": [
    "df.to_csv(\"football_admission_cleaned.csv\", index=False)"
   ]
  }
 ],
 "metadata": {
  "kernelspec": {
   "display_name": "Python 3",
   "language": "python",
   "name": "python3"
  },
  "language_info": {
   "codemirror_mode": {
    "name": "ipython",
    "version": 3
   },
   "file_extension": ".py",
   "mimetype": "text/x-python",
   "name": "python",
   "nbconvert_exporter": "python",
   "pygments_lexer": "ipython3",
   "version": "3.10.12"
  }
 },
 "nbformat": 4,
 "nbformat_minor": 5
}
